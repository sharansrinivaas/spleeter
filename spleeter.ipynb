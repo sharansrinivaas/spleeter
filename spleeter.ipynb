{
  "nbformat": 4,
  "nbformat_minor": 0,
  "metadata": {
    "colab": {
      "provenance": [],
      "authorship_tag": "ABX9TyPZBSxnzJCjJiCDXhleDwqs",
      "include_colab_link": true
    },
    "kernelspec": {
      "name": "python3",
      "display_name": "Python 3"
    },
    "language_info": {
      "name": "python"
    }
  },
  "cells": [
    {
      "cell_type": "markdown",
      "metadata": {
        "id": "view-in-github",
        "colab_type": "text"
      },
      "source": [
        "<a href=\"https://colab.research.google.com/github/sharansrinivaas/spleeter/blob/master/spleeter.ipynb\" target=\"_parent\"><img src=\"https://colab.research.google.com/assets/colab-badge.svg\" alt=\"Open In Colab\"/></a>"
      ]
    },
    {
      "cell_type": "code",
      "execution_count": null,
      "metadata": {
        "id": "wXRbA1R8yZDL"
      },
      "outputs": [],
      "source": [
        "!apt install ffmpeg"
      ]
    },
    {
      "cell_type": "code",
      "source": [
        "pip install spleeter"
      ],
      "metadata": {
        "id": "IAIfGYt_ya2p"
      },
      "execution_count": null,
      "outputs": []
    },
    {
      "cell_type": "code",
      "source": [
        "from IPython.display import Audio"
      ],
      "metadata": {
        "id": "32j0e4c1yb9x"
      },
      "execution_count": null,
      "outputs": []
    },
    {
      "cell_type": "code",
      "source": [
        "!wget https://github.com/deezer/spleeter/raw/master/audio_example.mp3"
      ],
      "metadata": {
        "id": "lS_ek0BFyewX"
      },
      "execution_count": null,
      "outputs": []
    },
    {
      "cell_type": "code",
      "source": [
        "!spleeter separate -p spleeter:5stems -o output/ audio_example.mp3"
      ],
      "metadata": {
        "id": "rC248gykygsl"
      },
      "execution_count": null,
      "outputs": []
    },
    {
      "cell_type": "code",
      "source": [
        "!ls output/audio_example"
      ],
      "metadata": {
        "id": "2oyelFt7yiDd"
      },
      "execution_count": null,
      "outputs": []
    }
  ]
}